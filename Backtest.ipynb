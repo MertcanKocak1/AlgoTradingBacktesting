{
 "cells": [
  {
   "cell_type": "code",
   "execution_count": 9,
   "metadata": {},
   "outputs": [],
   "source": [
    "import pandas as pd \n",
    "import numpy as np \n",
    "import matplotlib.pyplot as plt\n",
    "import math\n",
    "class BacktestingMySelf:\n",
    "    def __init__(self, csvFileName, startMoney):\n",
    "        self.startMoney = startMoney\n",
    "        self.data = pd.read_csv(csvFileName)\n",
    "        self.isInPosition = False\n",
    "        self.id = 1\n",
    "        self.stopLoss = 0.25\n",
    "        self.takeProfit = 0.37\n",
    "        self.entryPositionPrice = 0\n",
    "        self.exitPositionPrice = 0\n",
    "        self.positionCount = 0\n",
    "        self.startMoneyTime = []\n",
    "        self.takeProfitCount = 0\n",
    "        self.stopLossCount = 0\n",
    "        self.positionWithProfitCount = 0\n",
    "        self.positionWithLossCount = 0\n",
    "        #self.database = Database.Database.getInstance()\n",
    "\n",
    "    @staticmethod\n",
    "    def FloorPrecisionFix(amount, precision: int):\n",
    "        return math.floor(amount * 10 ** precision) / 10 ** precision\n",
    "\n",
    "    def createTest(self):\n",
    "        for i, inside in self.data.iterrows():\n",
    "            # if user in position\n",
    "            if self.isInPosition:\n",
    "                if (inside['MACDHIST'] < 0 and inside['MACDHIST2'] < inside['MACDHIST1']\n",
    "                    and inside['MACDHIST1'] > inside['MACDHIST']) or (\n",
    "                        inside['MACDHIST'] > 0 and inside['MACDHIST1'] > inside['MACDHIST']):\n",
    "                    self.positionCount += 1\n",
    "                    self.startMoney *= self.FloorPrecisionFix(inside['Close'] / self.entryPositionPrice, 4)\n",
    "                    self.isInPosition = False\n",
    "                    inside['Reason'] = 'MACDR'\n",
    "                    inside['SIDE'] = 'Exit'\n",
    "                    inside['StartMoney'] = self.startMoney\n",
    "                    self.startMoneyTime.append(self.startMoney)\n",
    "                    # self.database.CreateNewSpotLog(inside)\n",
    "                    if self.entryPositionPrice < inside['Close']:\n",
    "                        self.positionWithProfitCount += 1\n",
    "                    elif self.entryPositionPrice > inside['Close']:\n",
    "                        self.positionWithLossCount += 1\n",
    "                    continue\n",
    "                elif inside['SUPERTd_10_3'] == -1.0:\n",
    "                    self.positionCount += 1\n",
    "                    self.startMoney *= self.FloorPrecisionFix(inside['Close'] / self.entryPositionPrice, 4)\n",
    "                    self.isInPosition = False\n",
    "                    inside['Reason'] = 'SuperTrendExit'\n",
    "                    inside['SIDE'] = 'Exit'\n",
    "                    inside['StartMoney'] = self.startMoney\n",
    "                    self.startMoneyTime.append(self.startMoney)\n",
    "                    # self.database.CreateNewSpotLog(inside)\n",
    "                    if self.entryPositionPrice < inside['Close']:\n",
    "                        self.positionWithProfitCount += 1\n",
    "                    elif self.entryPositionPrice > inside['Close']:\n",
    "                        self.positionWithLossCount += 1\n",
    "                    continue\n",
    "                elif inside['High'] > self.entryPositionPrice + ((self.entryPositionPrice / 100) * self.takeProfit):\n",
    "                    exitPrice = self.entryPositionPrice + ((self.entryPositionPrice / 100) * self.takeProfit)\n",
    "                    self.positionCount += 1\n",
    "                    self.startMoney *= self.FloorPrecisionFix(exitPrice / self.entryPositionPrice, 4)\n",
    "                    self.isInPosition = False\n",
    "                    inside['SIDE'] = 'Exit'\n",
    "                    inside['StartMoney'] = self.startMoney\n",
    "                    # self.database.CreateNewSpotLog(inside)\n",
    "                    self.startMoneyTime.append(self.startMoney)\n",
    "                    inside['Reason'] = 'TP'\n",
    "                    inside['Close'] = exitPrice\n",
    "                    self.takeProfitCount += 1\n",
    "                    self.positionWithProfitCount += 1\n",
    "                    continue\n",
    "                elif inside['Low'] < self.entryPositionPrice - ((self.entryPositionPrice / 100) * self.stopLoss):\n",
    "                    exitPrice = self.entryPositionPrice - ((self.entryPositionPrice / 100) * self.stopLoss)\n",
    "                    self.positionCount += 1\n",
    "                    self.startMoney *= self.FloorPrecisionFix(exitPrice / self.entryPositionPrice, 4)\n",
    "                    self.isInPosition = False\n",
    "                    inside['SIDE'] = 'Exit'\n",
    "                    inside['StartMoney'] = self.startMoney\n",
    "                    # self.database.CreateNewSpotLog(inside)\n",
    "                    self.startMoneyTime.append(self.startMoney)\n",
    "                    inside['Reason'] = 'SL'\n",
    "                    inside['Close'] = exitPrice\n",
    "                    self.stopLossCount += 1\n",
    "                    self.positionWithLossCount += 1\n",
    "                    continue\n",
    "            else:\n",
    "                # if user is not in position\n",
    "                if inside['SUPERTd_10_3'] == 1.0:\n",
    "                    if (inside['MACDHIST'] >= 0 and inside['MACDHIST2'] > inside['MACDHIST1']\n",
    "                        and inside['MACDHIST1'] < inside['MACDHIST']) or (\n",
    "                            inside['MACDHIST'] < 0 and inside['MACDHIST1'] < inside['MACDHIST']):\n",
    "                        self.entryPositionPrice = inside['Close']\n",
    "                        self.isInPosition = True\n",
    "                        self.positionCount += 1\n",
    "                        inside['SIDE'] = 'Enter'\n",
    "                        inside['StartMoney'] = self.startMoney\n",
    "                        inside['Reason'] = 'Enter'\n",
    "                        # self.database.CreateNewSpotLog(inside)\n",
    "        print('{0:.10f}'.format(self.startMoney))\n",
    "        print(self.positionCount)\n",
    "\n",
    "    def getPositions(self):\n",
    "        return self.positions"
   ]
  },
  {
   "cell_type": "code",
   "execution_count": 10,
   "metadata": {},
   "outputs": [],
   "source": [
    "bt = BacktestingMySelf(\"1MinuteData.csv\", 10000)"
   ]
  },
  {
   "cell_type": "code",
   "execution_count": 11,
   "metadata": {},
   "outputs": [
    {
     "name": "stdout",
     "output_type": "stream",
     "text": [
      "2306.2364505344\n",
      "65767\n"
     ]
    }
   ],
   "source": [
    "bt.createTest()"
   ]
  },
  {
   "cell_type": "code",
   "execution_count": 12,
   "metadata": {},
   "outputs": [
    {
     "data": {
      "text/plain": [
       "[<matplotlib.lines.Line2D at 0x257ae325040>]"
      ]
     },
     "execution_count": 12,
     "metadata": {},
     "output_type": "execute_result"
    },
    {
     "data": {
      "image/png": "[encoded data removed]",
      "text/plain": [
       "<Figure size 432x288 with 1 Axes>"
      ]
     },
     "metadata": {
      "needs_background": "light"
     },
     "output_type": "display_data"
    }
   ],
   "source": [
    "plt.plot(bt.startMoneyTime)"
   ]
  },
  {
   "cell_type": "code",
   "execution_count": 13,
   "metadata": {},
   "outputs": [
    {
     "data": {
      "text/plain": [
       "0.06996072700703261"
      ]
     },
     "execution_count": 13,
     "metadata": {},
     "output_type": "execute_result"
    }
   ],
   "source": [
    "bt.takeProfitCount / (bt.positionWithProfitCount + bt.positionWithLossCount)"
   ]
  },
  {
   "cell_type": "code",
   "execution_count": 14,
   "metadata": {},
   "outputs": [],
   "source": [
    "# 6 Per cent of trades are Take Profit"
   ]
  },
  {
   "cell_type": "code",
   "execution_count": 15,
   "metadata": {},
   "outputs": [
    {
     "data": {
      "text/plain": [
       "0.0033184156848418424"
      ]
     },
     "execution_count": 15,
     "metadata": {},
     "output_type": "execute_result"
    }
   ],
   "source": [
    "bt.stopLossCount / (bt.positionWithProfitCount + bt.positionWithLossCount)"
   ]
  },
  {
   "cell_type": "code",
   "execution_count": 17,
   "metadata": {},
   "outputs": [],
   "source": [
    "# 0.3 Per cent of trades are Stop Loss "
   ]
  },
  {
   "cell_type": "code",
   "execution_count": 18,
   "metadata": {},
   "outputs": [
    {
     "data": {
      "text/plain": [
       "0.34745943312935734"
      ]
     },
     "execution_count": 18,
     "metadata": {},
     "output_type": "execute_result"
    }
   ],
   "source": [
    "bt.positionWithProfitCount / (bt.positionWithProfitCount + bt.positionWithLossCount)"
   ]
  },
  {
   "cell_type": "code",
   "execution_count": 19,
   "metadata": {},
   "outputs": [],
   "source": [
    "# 34 per cent of trades are profitable"
   ]
  },
  {
   "cell_type": "code",
   "execution_count": 20,
   "metadata": {},
   "outputs": [
    {
     "data": {
      "text/plain": [
       "0.6525405668706427"
      ]
     },
     "execution_count": 20,
     "metadata": {},
     "output_type": "execute_result"
    }
   ],
   "source": [
    "bt.positionWithLossCount / (bt.positionWithProfitCount + bt.positionWithLossCount)"
   ]
  },
  {
   "cell_type": "code",
   "execution_count": 21,
   "metadata": {},
   "outputs": [],
   "source": [
    "# 65 per cent of trades are not profitable"
   ]
  },
  {
   "cell_type": "code",
   "execution_count": 22,
   "metadata": {},
   "outputs": [
    {
     "data": {
      "text/plain": [
       "525604"
      ]
     },
     "execution_count": 22,
     "metadata": {},
     "output_type": "execute_result"
    }
   ],
   "source": [
    "len(bt.data)"
   ]
  },
  {
   "cell_type": "code",
   "execution_count": 23,
   "metadata": {},
   "outputs": [],
   "source": [
    "# I did this test for 525604 row. \n",
    "# This test was done for 1 minute candles.\n",
    "# There are 1440 candles on a daily basis."
   ]
  },
  {
   "cell_type": "code",
   "execution_count": 24,
   "metadata": {},
   "outputs": [
    {
     "data": {
      "text/plain": [
       "365.0027777777778"
      ]
     },
     "execution_count": 24,
     "metadata": {},
     "output_type": "execute_result"
    }
   ],
   "source": [
    "len(bt.data) / 1440"
   ]
  },
  {
   "cell_type": "code",
   "execution_count": 25,
   "metadata": {},
   "outputs": [],
   "source": [
    "# I have tested for exactly 1 year."
   ]
  },
  {
   "cell_type": "code",
   "execution_count": null,
   "metadata": {},
   "outputs": [],
   "source": []
  }
 ],
 "metadata": {
  "kernelspec": {
   "display_name": "Python 3",
   "language": "python",
   "name": "python3"
  },
  "language_info": {
   "codemirror_mode": {
    "name": "ipython",
    "version": 3
   },
   "file_extension": ".py",
   "mimetype": "text/x-python",
   "name": "python",
   "nbconvert_exporter": "python",
   "pygments_lexer": "ipython3",
   "version": "3.8.5"
  }
 },
 "nbformat": 4,
 "nbformat_minor": 4
}
